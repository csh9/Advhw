{
  "nbformat": 4,
  "nbformat_minor": 0,
  "metadata": {
    "colab": {
      "name": "teamworkassignment.ipynb",
      "provenance": [],
      "collapsed_sections": [],
      "include_colab_link": true
    },
    "kernelspec": {
      "name": "python3",
      "display_name": "Python 3"
    }
  },
  "cells": [
    {
      "cell_type": "markdown",
      "metadata": {
        "id": "view-in-github",
        "colab_type": "text"
      },
      "source": [
        "<a href=\"https://colab.research.google.com/github/csh9/Advhw/blob/master/teamworkassignment.ipynb\" target=\"_parent\"><img src=\"https://colab.research.google.com/assets/colab-badge.svg\" alt=\"Open In Colab\"/></a>"
      ]
    },
    {
      "cell_type": "code",
      "metadata": {
        "colab_type": "code",
        "outputId": "0231bc72-6ce4-4388-9f23-aa7126e8118e",
        "id": "-gGi35Mkkz9l",
        "colab": {
          "base_uri": "https://localhost:8080/",
          "height": 35
        }
      },
      "source": [
        "#IS465002\n",
        "#In Class Team Assignment\n",
        "#Que1\n",
        "#Chikuyu Henry\n",
        "#Robert Gardineer\n",
        "#Zachary DiPirro\n",
        "\n",
        "\n",
        "\n",
        "import difflib\n",
        "\n",
        "# created 3 variables to store our words\n",
        "text_1 = \"lion ate the farmers goats\"\n",
        "text_2 = \"lions are the king of the jungle\"\n",
        "text_3 = \"baby-lion\"\n",
        "\n",
        "#created an object called sequence\n",
        "#SequenceMatcher is a function inside of difflib\n",
        "#isJunk ask if anything needs to be ignored\n",
        "sequence  = difflib.SequenceMatcher(isjunk=None, a = text_1, b = text_2)   \n",
        "difference = sequence.ratio()*100\n",
        "difference = round(difference,1)\n",
        "print (difference,\"% match\") \n",
        "\n"
      ],
      "execution_count": 15,
      "outputs": [
        {
          "output_type": "stream",
          "text": [
            "55.2 % match\n"
          ],
          "name": "stdout"
        }
      ]
    },
    {
      "cell_type": "code",
      "metadata": {
        "id": "7DJUnX6KjU3Z",
        "colab_type": "code",
        "outputId": "7b39761e-1a7d-4355-9af7-a95078cb889f",
        "colab": {
          "base_uri": "https://localhost:8080/",
          "height": 35
        }
      },
      "source": [
        "import difflib\n",
        "\n",
        "text_1 = \"lion\"\n",
        "text_2 = \"lioness\"\n",
        "text_3 = \"baby-lion\"\n",
        "\n",
        "sequence  = difflib.SequenceMatcher(isjunk=None, a = text_1, b = text_3)\n",
        "difference = sequence.ratio()*100\n",
        "difference = round(difference,1)\n",
        "print (difference,\"% match\") \n"
      ],
      "execution_count": 16,
      "outputs": [
        {
          "output_type": "stream",
          "text": [
            "61.5 % match\n"
          ],
          "name": "stdout"
        }
      ]
    },
    {
      "cell_type": "code",
      "metadata": {
        "id": "Pqqx_EYCjhO1",
        "colab_type": "code",
        "outputId": "03a5be5c-ab0a-4636-9d2f-1f24d311080e",
        "colab": {
          "base_uri": "https://localhost:8080/",
          "height": 35
        }
      },
      "source": [
        "import difflib\n",
        "\n",
        "text_1 = \"lion\"\n",
        "text_2 = \"lioness\"\n",
        "text_3 = \"baby-lion\"\n",
        "\n",
        "sequence  = difflib.SequenceMatcher(isjunk=None, a = text_2, b = text_3)\n",
        "difference = sequence.ratio()*100\n",
        "difference = round(difference,1)\n",
        "print (difference,\"% match\") \n"
      ],
      "execution_count": 17,
      "outputs": [
        {
          "output_type": "stream",
          "text": [
            "50.0 % match\n"
          ],
          "name": "stdout"
        }
      ]
    }
  ]
}